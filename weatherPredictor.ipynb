{
 "cells": [
  {
   "cell_type": "code",
   "execution_count": 3,
   "metadata": {},
   "outputs": [],
   "source": [
    "# feature 1: Should you bring an umbrella?\n",
    "def bringUmbrella(chanceOfRain):\n",
    "    if int(chanceOfRain) >= 45:\n",
    "        return True\n",
    "    else:\n",
    "        return False\n",
    "\n",
    "# feature 2: Should you wear a jacket?\n",
    "def wearJacket(temp):\n",
    "    if int(temp) >= 15:\n",
    "        return False\n",
    "    else:\n",
    "        return True\n",
    "    \n",
    "# Simple Change"
   ]
  },
  {
   "cell_type": "code",
   "execution_count": 4,
   "metadata": {},
   "outputs": [
    {
     "name": "stderr",
     "output_type": "stream",
     "text": [
      "test_bringUmbrella1 (__main__.TestWeatherPredictor) ... ok\n",
      "test_bringUmbrella2 (__main__.TestWeatherPredictor) ... ok\n",
      "test_wearJacket1 (__main__.TestWeatherPredictor) ... ok\n",
      "test_wearJacket2 (__main__.TestWeatherPredictor) ... ok\n",
      "\n",
      "----------------------------------------------------------------------\n",
      "Ran 4 tests in 0.013s\n",
      "\n",
      "OK\n"
     ]
    },
    {
     "data": {
      "text/plain": [
       "<unittest.main.TestProgram at 0x1037cec70>"
      ]
     },
     "execution_count": 4,
     "metadata": {},
     "output_type": "execute_result"
    }
   ],
   "source": [
    "import unittest\n",
    "\n",
    "class TestWeatherPredictor(unittest.TestCase):\n",
    "    \n",
    "    def test_bringUmbrella1(self):\n",
    "        self.assertEqual(bringUmbrella(50), True)\n",
    "        \n",
    "    def test_bringUmbrella2(self):\n",
    "        self.assertEqual(bringUmbrella(30), False)\n",
    "        \n",
    "    def test_wearJacket1(self):\n",
    "        self.assertEqual(wearJacket(25), False)\n",
    "    \n",
    "    def test_wearJacket2(self):\n",
    "        self.assertEqual(wearJacket(10), True)\n",
    "        \n",
    "        \n",
    "\n",
    "unittest.main(argv=[''], verbosity=2, exit=False)"
   ]
  },
  {
   "cell_type": "code",
   "execution_count": null,
   "metadata": {},
   "outputs": [],
   "source": []
  }
 ],
 "metadata": {
  "kernelspec": {
   "display_name": "Python 3",
   "language": "python",
   "name": "python3"
  },
  "language_info": {
   "codemirror_mode": {
    "name": "ipython",
    "version": 3
   },
   "file_extension": ".py",
   "mimetype": "text/x-python",
   "name": "python",
   "nbconvert_exporter": "python",
   "pygments_lexer": "ipython3",
   "version": "3.8.5"
  }
 },
 "nbformat": 4,
 "nbformat_minor": 4
}
